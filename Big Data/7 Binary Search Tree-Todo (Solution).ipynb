{
 "cells": [
  {
   "cell_type": "markdown",
   "metadata": {},
   "source": [
    "Animation: https://www.cs.usfca.edu/~galles/visualization/BST.html"
   ]
  },
  {
   "cell_type": "code",
   "execution_count": 2,
   "metadata": {},
   "outputs": [],
   "source": [
    "\n",
    "class Node:\n",
    "    \"\"\"\n",
    "    Tree node with left and right child and data\n",
    "    \"\"\"\n",
    "    def __init__(self, data):\n",
    "        self.data = data\n",
    "        self.left_child = None\n",
    "        self.right_child = None"
   ]
  },
  {
   "cell_type": "code",
   "execution_count": 9,
   "metadata": {},
   "outputs": [],
   "source": [
    "class Tree:\n",
    "    def __init__(self):\n",
    "        \"\"\"Create an empty binary search tree\"\"\"\n",
    "        self.root = None\n",
    "    \n",
    "    def insert(self, item):\n",
    "        \"\"\"Add an item in the binary search tree\"\"\"\n",
    "        \n",
    "        item = Node(item)\n",
    "        found = False\n",
    "        \n",
    "        if self.root == None:\n",
    "            self.root = item\n",
    "        else:\n",
    "            c = self.root\n",
    "            \n",
    "            # loop\n",
    "            while found == False:\n",
    "                if item.data < c.data :\n",
    "                    if (c.left_child is None):\n",
    "                        c.left_child = item\n",
    "                        found = True\n",
    "                        return \n",
    "                    else:    \n",
    "                        c = c.left_child\n",
    "                else:\n",
    "                    if (c.right_child is None):\n",
    "                        c.right_child = item\n",
    "                        found = True\n",
    "                        return\n",
    "                    else:    \n",
    "                        c = c.right_child\n",
    "    def find(self, item):\n",
    "        \"\"\"Returns true if item is in the tree or false otherwise\"\"\"\n",
    "        \n",
    "        found = False\n",
    "        c = self.root\n",
    "        \n",
    "        while (c != None):\n",
    "            if item == c.data:\n",
    "                found = True          \n",
    "                return found\n",
    "            elif item < c.data:\n",
    "                c = c.left_child\n",
    "            else:\n",
    "                c = c.right_child\n",
    "        return found "
   ]
  },
  {
   "cell_type": "code",
   "execution_count": 10,
   "metadata": {},
   "outputs": [],
   "source": [
    "tree = Tree()"
   ]
  },
  {
   "cell_type": "code",
   "execution_count": 11,
   "metadata": {},
   "outputs": [],
   "source": [
    "tree.insert(30)\n",
    "tree.insert(5)\n",
    "tree.insert(50)\n",
    "tree.insert(8)\n",
    "tree.insert(3)\n",
    "tree.insert(100)\n",
    "tree.insert(40)"
   ]
  },
  {
   "cell_type": "code",
   "execution_count": 12,
   "metadata": {},
   "outputs": [
    {
     "data": {
      "text/plain": [
       "True"
      ]
     },
     "execution_count": 12,
     "metadata": {},
     "output_type": "execute_result"
    }
   ],
   "source": [
    "tree.find(8)"
   ]
  },
  {
   "cell_type": "code",
   "execution_count": 13,
   "metadata": {},
   "outputs": [
    {
     "data": {
      "text/plain": [
       "False"
      ]
     },
     "execution_count": 13,
     "metadata": {},
     "output_type": "execute_result"
    }
   ],
   "source": [
    "tree.find(9)"
   ]
  },
  {
   "cell_type": "markdown",
   "metadata": {},
   "source": [
    "# Why is the worst case time complexity of the find method only $O(n)$ and not $O(log n)$?¶"
   ]
  },
  {
   "cell_type": "markdown",
   "metadata": {},
   "source": [
    "Due to the binary search tree rule, there will never be the need to search the full tree."
   ]
  }
 ],
 "metadata": {
  "kernelspec": {
   "display_name": "Python 3",
   "language": "python",
   "name": "python3"
  },
  "language_info": {
   "codemirror_mode": {
    "name": "ipython",
    "version": 3
   },
   "file_extension": ".py",
   "mimetype": "text/x-python",
   "name": "python",
   "nbconvert_exporter": "python",
   "pygments_lexer": "ipython3",
   "version": "3.7.6"
  }
 },
 "nbformat": 4,
 "nbformat_minor": 4
}
